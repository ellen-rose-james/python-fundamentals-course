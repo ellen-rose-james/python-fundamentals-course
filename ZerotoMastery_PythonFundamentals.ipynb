{
 "cells": [
  {
   "cell_type": "markdown",
   "metadata": {},
   "source": [
    "## **Python: Zero to Mastery - Day 1**\n",
    "\n"
   ]
  },
  {
   "cell_type": "markdown",
   "metadata": {},
   "source": [
    "### **Structure of a Python Program**\n",
    "\n",
    "A Python program is typically organized into the following components:\n",
    "\n",
    "*   **Modules:** A module is a file containing Python definitions and statements. The file name is the module name with the suffix `.py`. Modules can define functions, classes, and variables. They provide a way to organize code into logical units and promote reusability.\n",
    "\n",
    "*   **Statements:** A statement is a unit of code that the Python interpreter can execute. Examples include assignment statements (e.g., `x = 5`), print statements (`print(\"Hello\")`), conditional statements (`if`), and loops (`for`, `while`). Statements perform actions.\n",
    "\n",
    "*   **Expressions:** An expression is a combination of values, variables, and operators that the Python interpreter can evaluate to produce a value. Examples include arithmetic expressions (`2 + 3`), string expressions (`\"Hello\" + \"World\"`), and logical expressions (`x > 5`). Expressions produce values."
   ]
  },
  {
   "cell_type": "code",
   "execution_count": null,
   "metadata": {},
   "outputs": [],
   "source": [
    "# Example of a statement (assignment)\n",
    "x = 10\n",
    "print(\"The value of x is:\", x)"
   ]
  },
  {
   "cell_type": "code",
   "execution_count": null,
   "metadata": {},
   "outputs": [],
   "source": [
    "# Example of an expression (arithmetic)\n",
    "y = 5 + 3 * 2\n",
    "print(\"The value of y is:\", y)"
   ]
  },
  {
   "cell_type": "code",
   "execution_count": null,
   "metadata": {},
   "outputs": [],
   "source": [
    "# Example of a statement (conditional)\n",
    "if x > 5:\n",
    "    print(\"x is greater than 5\")"
   ]
  },
  {
   "cell_type": "code",
   "execution_count": null,
   "metadata": {},
   "outputs": [],
   "source": [
    "# Example of an expression (logical)\n",
    "is_true = (y < 20) and (x == 10)\n",
    "print(\"The logical expression evaluates to:\", is_true)"
   ]
  },
  {
   "cell_type": "markdown",
   "metadata": {},
   "source": [
    "### **Variables and Data Types**\n",
    "\n",
    "In Python, variables are used to store data values. You can think of a variable as a named container that holds a piece of information. Unlike some other programming languages, you don't need to declare the type of a variable explicitly in Python. The type is inferred based on the value assigned to it.\n",
    "\n",
    "Variable assignment is done using the equals sign (`=`). The variable name is on the left side of the `=`, and the value you want to store in it is on the right side.\n",
    "\n",
    "Python has several built-in fundamental data types:\n",
    "\n",
    "*   **Integers (`int`):** Whole numbers, positive or negative, without a decimal point. Examples: `10`, `-5`, `0`.\n",
    "*   **Floating-point numbers (`float`):** Numbers with a decimal point or numbers in exponential form. Examples: `3.14`, `-0.001`, `2.5e10`.\n",
    "*   **Strings (`str`):** Sequences of characters, enclosed in single quotes (`'`) or double quotes (`\"`). Examples: `'Hello'`, `\"Python\"`, `'123'`.\n",
    "*   **Booleans (`bool`):** Represents truth values. It can only be either `True` or `False`. These are often used in conditional statements and logical operations."
   ]
  },
  {
   "cell_type": "code",
   "execution_count": null,
   "metadata": {},
   "outputs": [],
   "source": [
    "# Assigning values to variables of different data types\n",
    "my_integer = 100\n",
    "my_float = 3.14159\n",
    "my_string = \"This is a string\"\n",
    "my_boolean = True\n",
    "\n",
    "# Displaying the value and type of each variable\n",
    "print(\"Value of my_integer:\", my_integer)\n",
    "print(\"Type of my_integer:\", type(my_integer))\n",
    "\n",
    "print(\"\\nValue of my_float:\", my_float)\n",
    "print(\"Type of my_float:\", type(my_float))\n",
    "\n",
    "print(\"\\nValue of my_string:\", my_string)\n",
    "print(\"Type of my_string:\", type(my_string))\n",
    "\n",
    "print(\"\\nValue of my_boolean:\", my_boolean)\n",
    "print(\"Type of my_boolean:\", type(my_boolean))"
   ]
  }
 ],
 "metadata": {
  "colab": {
   "authorship_tag": "ABX9TyOVtunSHgIdBzItJS20+Meb",
   "provenance": []
  },
  "kernelspec": {
   "display_name": "Python 3",
   "name": "python3"
  },
  "language_info": {
   "name": "python"
  }
 },
 "nbformat": 4,
 "nbformat_minor": 0
}
