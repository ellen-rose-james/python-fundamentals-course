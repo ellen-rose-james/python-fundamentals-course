{
 "cells": [
  {
   "cell_type": "markdown",
   "metadata": {},
   "source": [
    "## **Python: Zero to Mastery - Day 1**\n",
    "\n"
   ]
  },
  {
   "cell_type": "markdown",
   "metadata": {},
   "source": [
    "### **Structure of a Python Program**\n",
    "\n",
    "A Python program is typically organized into the following components:\n",
    "\n",
    "*   **Modules:** A module is a file containing Python definitions and statements. The file name is the module name with the suffix `.py`. Modules can define functions, classes, and variables. They provide a way to organize code into logical units and promote reusability.\n",
    "\n",
    "*   **Statements:** A statement is a unit of code that the Python interpreter can execute. Examples include assignment statements (e.g., `x = 5`), print statements (`print(\"Hello\")`), conditional statements (`if`), and loops (`for`, `while`). Statements perform actions.\n",
    "\n",
    "*   **Expressions:** An expression is a combination of values, variables, and operators that the Python interpreter can evaluate to produce a value. Examples include arithmetic expressions (`2 + 3`), string expressions (`\"Hello\" + \"World\"`), and logical expressions (`x > 5`). Expressions produce values."
   ]
  },
  {
   "cell_type": "code",
   "execution_count": null,
   "metadata": {},
   "outputs": [],
   "source": [
    "# Example of a statement (assignment)\n",
    "x = 10\n",
    "print(\"The value of x is:\", x)"
   ]
  },
  {
   "cell_type": "code",
   "execution_count": null,
   "metadata": {},
   "outputs": [],
   "source": [
    "# Example of an expression (arithmetic)\n",
    "y = 5 + 3 * 2\n",
    "print(\"The value of y is:\", y)"
   ]
  },
  {
   "cell_type": "code",
   "execution_count": null,
   "metadata": {},
   "outputs": [],
   "source": [
    "# Example of a statement (conditional)\n",
    "if x > 5:\n",
    "    print(\"x is greater than 5\")"
   ]
  },
  {
   "cell_type": "code",
   "execution_count": null,
   "metadata": {},
   "outputs": [],
   "source": [
    "# Example of an expression (logical)\n",
    "is_true = (y < 20) and (x == 10)\n",
    "print(\"The logical expression evaluates to:\", is_true)"
   ]
  },
  {
   "cell_type": "markdown",
   "metadata": {},
   "source": [
    "### **Variables and Data Types**\n",
    "\n",
    "In Python, variables are used to store data values. You can think of a variable as a named container that holds a piece of information. Unlike some other programming languages, you don't need to declare the type of a variable explicitly in Python. The type is inferred based on the value assigned to it.\n",
    "\n",
    "Variable assignment is done using the equals sign (`=`). The variable name is on the left side of the `=`, and the value you want to store in it is on the right side.\n",
    "\n",
    "Python has several built-in fundamental data types:\n",
    "\n",
    "*   **Integers (`int`):** Whole numbers, positive or negative, without a decimal point. Examples: `10`, `-5`, `0`.\n",
    "*   **Floating-point numbers (`float`):** Numbers with a decimal point or numbers in exponential form. Examples: `3.14`, `-0.001`, `2.5e10`.\n",
    "*   **Strings (`str`):** Sequences of characters, enclosed in single quotes (`'`) or double quotes (`\"`). Examples: `'Hello'`, `\"Python\"`, `'123'`.\n",
    "*   **Booleans (`bool`):** Represents truth values. It can only be either `True` or `False`. These are often used in conditional statements and logical operations."
   ]
  },
  {
   "cell_type": "code",
   "execution_count": null,
   "metadata": {},
   "outputs": [],
   "source": [
    "# Assigning values to variables of different data types\n",
    "my_integer = 100\n",
    "my_float = 3.14159\n",
    "my_string = \"This is a string\"\n",
    "my_boolean = True\n",
    "\n",
    "# Displaying the value and type of each variable\n",
    "print(\"Value of my_integer:\", my_integer)\n",
    "print(\"Type of my_integer:\", type(my_integer))\n",
    "\n",
    "print(\"\\nValue of my_float:\", my_float)\n",
    "print(\"Type of my_float:\", type(my_float))\n",
    "\n",
    "print(\"\\nValue of my_string:\", my_string)\n",
    "print(\"Type of my_string:\", type(my_string))\n",
    "\n",
    "print(\"\\nValue of my_boolean:\", my_boolean)\n",
    "print(\"Type of my_boolean:\", type(my_boolean))"
   ]
  },
  {
   "cell_type": "markdown",
   "metadata": {},
   "source": [
    "### **Keywords**\n",
    "\n",
    "Keywords are reserved words in Python that have special meanings. They are used to define the syntax and structure of the Python language. You cannot use keywords as variable names, function names, or any other identifier.\n",
    "\n",
    "Here are some common Python keywords:\n",
    "\n",
    "*   `if`: Used to start a conditional statement. Executes a block of code if a condition is true.\n",
    "*   `else`: Used with `if` or `elif`. Executes a block of code if the condition in the preceding `if` or `elif` is false.\n",
    "*   `elif`: Short for 'else if'. Used with `if` to check multiple conditions sequentially.\n",
    "*   `for`: Used to iterate over a sequence (like a list, tuple, string, or range) or other iterable objects.\n",
    "*   `while`: Used to execute a block of code repeatedly as long as a condition is true.\n",
    "*   `def`: Used to define a function.\n",
    "*   `import`: Used to import modules or parts of modules into the current namespace.\n",
    "*   `True`: The boolean truth value.\n",
    "*   `False`: The boolean false value.\n",
    "*   `None`: Represents the absence of a value or a null value.\n",
    "*   `and`: A logical operator that returns `True` if both operands are true.\n",
    "*   `or`: A logical operator that returns `True` if at least one operand is true.\n",
    "*   `not`: A logical operator that negates a boolean expression.\n",
    "*   `in`: A membership operator used to check if a value is present in a sequence.\n",
    "*   `is`: An identity operator used to check if two variables refer to the same object.\n",
    "*   `break`: Used to exit a loop prematurely.\n",
    "*   `continue`: Used to skip the rest of the current loop iteration and move to the next.\n",
    "*   `return`: Used in functions to return a value.\n",
    "*   `lambda`: Used to create small, anonymous functions.\n",
    "*   `class`: Used to define a class.\n",
    "*   `try`, `except`, `finally`: Used for exception handling.\n",
    "*   `with`: Used for resource management (e.g., working with files).\n",
    "*   `as`: Used to create an alias when importing modules or with the `with` statement."
   ]
  },
  {
   "cell_type": "code",
   "execution_count": null,
   "metadata": {},
   "outputs": [],
   "source": [
    "# Demonstrating 'if', 'elif', and 'else'\n",
    "score = 85\n",
    "if score >= 90:\n",
    "    print(\"Grade: A\")\n",
    "elif score >= 80:\n",
    "    print(\"Grade: B\")\n",
    "else:\n",
    "    print(\"Grade: C\")"
   ]
  },
  {
   "cell_type": "code",
   "execution_count": null,
   "metadata": {},
   "outputs": [],
   "source": [
    "# Demonstrating 'for' loop and 'in'\n",
    "fruits = [\"apple\", \"banana\", \"cherry\"]\n",
    "for fruit in fruits:\n",
    "    print(fruit)"
   ]
  },
  {
   "cell_type": "code",
   "execution_count": null,
   "metadata": {},
   "outputs": [],
   "source": [
    "# Demonstrating 'while' loop and 'break'\n",
    "count = 0\n",
    "while count < 5:\n",
    "    print(\"Count:\", count)\n",
    "    if count == 2:\n",
    "        break\n",
    "    count += 1"
   ]
  },
  {
   "cell_type": "code",
   "execution_count": null,
   "metadata": {},
   "outputs": [],
   "source": [
    "# Demonstrating 'def' and 'return'\n",
    "def add_numbers(a, b):\n",
    "    return a + b\n",
    "\n",
    "sum_result = add_numbers(10, 20)\n",
    "print(\"Sum:\", sum_result)"
   ]
  },
  {
   "cell_type": "code",
   "execution_count": null,
   "metadata": {},
   "outputs": [],
   "source": [
    "# Demonstrating 'True', 'False', and 'not'\n",
    "is_sunny = True\n",
    "is_raining = False\n",
    "print(\"Is it sunny?\", is_sunny)\n",
    "print(\"Is it raining?\", is_raining)\n",
    "print(\"Is it not raining?\", not is_raining)"
   ]
  },
  {
   "cell_type": "code",
   "execution_count": null,
   "metadata": {},
   "outputs": [],
   "source": [
    "# Demonstrating 'None'\n",
    "result = None\n",
    "if result is None:\n",
    "    print(\"Result is None\")"
   ]
  },
  {
   "cell_type": "code",
   "execution_count": null,
   "metadata": {},
   "outputs": [],
   "source": [
    "# Demonstrating 'import' (using a built-in module)\n",
    "import math\n",
    "print(\"Value of pi:\", math.pi)"
   ]
  },
  {
   "cell_type": "markdown",
   "metadata": {},
   "source": [
    "### **Mutable and Immutable Data Types**\n",
    "\n",
    "In Python, data types are classified into two categories based on whether their state can be changed after they are created:\n",
    "\n",
    "*   **Immutable Data Types:** The state of an object of an immutable type cannot be changed after it is created. If you perform an operation that seems to modify an immutable object, you are actually creating a new object in memory. Common immutable types include:\n",
    "    *   Integers (`int`)\n",
    "    *   Floating-point numbers (`float`)\n",
    "    *   Strings (`str`)\n",
    "    *   Tuples (`tuple`)\n",
    "    *   Booleans (`bool`)\n",
    "    *   NoneType (`None`)\n",
    "\n",
    "*   **Mutable Data Types:** The state of an object of a mutable type can be changed after it is created. You can modify, add, or remove elements from a mutable object without creating a new object in memory. Common mutable types include:\n",
    "    *   Lists (`list`)\n",
    "    *   Dictionaries (`dict`)\n",
    "    *   Sets (`set`)"
   ]
  },
  {
   "cell_type": "code",
   "execution_count": null,
   "metadata": {},
   "outputs": [],
   "source": [
    "# Demonstrating mutable type (list)\n",
    "my_list = [1, 2, 3]\n",
    "print(\"Original list:\", my_list)\n",
    "print(\"ID of original list:\", id(my_list))\n",
    "\n",
    "# Modify the list in place\n",
    "my_list.append(4)\n",
    "print(\"List after appending:\", my_list)\n",
    "print(\"ID of list after appending:\", id(my_list)) # ID should be the same"
   ]
  },
  {
   "cell_type": "code",
   "execution_count": null,
   "metadata": {},
   "outputs": [],
   "source": [
    "# Demonstrating immutable type (string)\n",
    "my_string = \"hello\"\n",
    "print(\"Original string:\", my_string)\n",
    "print(\"ID of original string:\", id(my_string))\n",
    "\n",
    "# Attempt to \"modify\" the string (reassignment actually creates a new object)\n",
    "my_string = my_string + \" world\"\n",
    "print(\"String after concatenation:\", my_string)\n",
    "print(\"ID of string after concatenation:\", id(my_string)) # ID should be different"
   ]
  },
  {
   "cell_type": "code",
   "execution_count": null,
   "metadata": {},
   "outputs": [],
   "source": [
    "# Demonstrating immutable type (integer)\n",
    "my_integer = 10\n",
    "print(\"Original integer:\", my_integer)\n",
    "print(\"ID of original integer:\", id(my_integer))\n",
    "\n",
    "# Attempt to \"modify\" the integer (reassignment actually creates a new object)\n",
    "my_integer = my_integer + 5\n",
    "print(\"Integer after addition:\", my_integer)\n",
    "print(\"ID of integer after addition:\", id(my_integer)) # ID should be different"
   ]
  },
  {
   "cell_type": "markdown",
   "metadata": {},
   "source": [
    "### **Operators and Operands**\n",
    "\n",
    "Operators are special symbols that perform operations on operands (values or variables). Python supports various types of operators:\n",
    "\n",
    "*   **Arithmetic Operators:** Used to perform mathematical operations like addition, subtraction, multiplication, division, etc.\n",
    "*   **Comparison Operators:** Used to compare two values and return a boolean result (`True` or `False`).\n",
    "*   **Logical Operators:** Used to combine boolean expressions and return a boolean result.\n",
    "*   **Bitwise Operators:** Used to perform operations on the individual bits of integers.\n",
    "*   **Identity Operators:** Used to check if two variables refer to the same object in memory.\n",
    "*   **Membership Operators:** Used to test if a sequence (like a string, list, or tuple) contains a specific value."
   ]
  },
  {
   "cell_type": "code",
   "execution_count": null,
   "metadata": {},
   "outputs": [],
   "source": [
    "# Arithmetic Operators\n",
    "a = 10\n",
    "b = 3\n",
    "print(\"Arithmetic Operators:\")\n",
    "print(\"a + b =\", a + b) # Addition\n",
    "print(\"a - b =\", a - b) # Subtraction\n",
    "print(\"a * b =\", a * b) # Multiplication\n",
    "print(\"a / b =\", a / b) # Division (returns float)\n",
    "print(\"a // b =\", a // b) # Floor Division (returns integer)\n",
    "print(\"a % b =\", a % b) # Modulo (remainder)\n",
    "print(\"a ** b =\", a ** b) # Exponentiation"
   ]
  },
  {
   "cell_type": "code",
   "execution_count": null,
   "metadata": {},
   "outputs": [],
   "source": [
    "# Comparison Operators\n",
    "x = 15\n",
    "y = 11\n",
    "print(\"Comparison Operators:\")\n",
    "print(\"x > y is\", x > y)\n",
    "print(\"x < y is\", x < y)\n",
    "print(\"x >= y is\", x >= y)\n",
    "print(\"x <= y is\", x <= y)\n",
    "print(\"x == y is\", x == y)\n",
    "print(\"x != y is\", x != y)"
   ]
  },
  {
   "cell_type": "code",
   "execution_count": null,
   "metadata": {},
   "outputs": [],
   "source": [
    "# Logical Operators\n",
    "is_sunny = True\n",
    "is_raining = False\n",
    "print(\"Logical Operators:\")\n",
    "print(\"is_sunny and is_raining is\", is_sunny and is_raining)\n",
    "print(\"is_sunny or is_raining is\", is_sunny or is_raining)\n",
    "print(\"not is_sunny is\", not is_sunny)"
   ]
  },
  {
   "cell_type": "code",
   "execution_count": null,
   "metadata": {},
   "outputs": [],
   "source": [
    "# Bitwise Operators\n",
    "a = 6  # Binary: 0110\n",
    "b = 3  # Binary: 0011\n",
    "print(\"Bitwise Operators:\")\n",
    "print(\"a & b =\", a & b) # Bitwise AND (0010)\n",
    "print(\"a | b =\", a | b) # Bitwise OR (0111)\n",
    "print(\"a ^ b =\", a ^ b) # Bitwise XOR (0101)\n",
    "print(\"~a =\", ~a)     # Bitwise NOT (inverts bits, result depends on system representation)\n",
    "print(\"a << 2 =\", a << 2) # Bitwise Left Shift (011000)\n",
    "print(\"a >> 2 =\", a >> 2) # Bitwise Right Shift (0001)"
   ]
  },
  {
   "cell_type": "code",
   "execution_count": null,
   "metadata": {},
   "outputs": [],
   "source": [
    "# Identity Operators\n",
    "p = 5\n",
    "q = 5\n",
    "r = [1, 2, 3]\n",
    "s = [1, 2, 3]\n",
    "print(\"Identity Operators:\")\n",
    "print(\"p is q is\", p is q) # True, integers are often cached\n",
    "print(\"p is not q is\", p is not q)\n",
    "print(\"r is s is\", r is s) # False, lists are mutable and typically different objects\n",
    "print(\"r is not s is\", r is not s)"
   ]
  },
  {
   "cell_type": "code",
   "execution_count": null,
   "metadata": {},
   "outputs": [],
   "source": [
    "# Membership Operators\n",
    "my_string = \"Hello Python\"\n",
    "my_list = [10, 20, 30, 40]\n",
    "print(\"Membership Operators:\")\n",
    "print(\"'P' in my_string is\", 'P' in my_string)\n",
    "print(\"'z' in my_string is\", 'z' in my_string)\n",
    "print(\"20 in my_list is\", 20 in my_list)\n",
    "print(\"50 in my_list is\", 50 in my_list)\n",
    "print(\"'Hello' not in my_string is\", 'Hello' not in my_string)\n",
    "print(\"100 not in my_list is\", 100 not in my_list)"
   ]
  },
  {
   "cell_type": "markdown",
   "metadata": {},
   "source": [
    "### **Input and Output**\n",
    "\n",
    "Input and output are fundamental aspects of programming, allowing programs to interact with the user. In Python, built-in functions make handling input and output straightforward.\n",
    "\n",
    "### The `input()` Function\n",
    "\n",
    "The `input()` function is used to take input from the user via the console. When `input()` is called, the program execution pauses, and the user is prompted to enter text. The user's input is read as a string, including any whitespace, until the user presses Enter.\n",
    "\n",
    "**Syntax:**\n",
    "```\n",
    "input(prompt)\n",
    "```\n",
    "\n",
    "- `prompt`: (Optional) A string that is displayed to the user before they provide input. This is useful for telling the user what kind of input is expected.\n",
    "\n",
    "**Return Value:**\n",
    "The `input()` function always returns the user's input as a **string**. If you need to use the input as a different data type (like an integer or a float), you must explicitly convert it using type conversion functions like `int()`, `float()`, etc."
   ]
  },
  {
   "cell_type": "code",
   "execution_count": null,
   "metadata": {},
   "outputs": [],
   "source": [
    "# Demonstrate input() with type conversion\n",
    "# Taking integer input\n",
    "age_str = input(\"Enter your age: \")\n",
    "age_int = int(age_str)\n",
    "print(\"Your age is:\", age_int, type(age_int))"
   ]
  },
  {
   "cell_type": "code",
   "execution_count": null,
   "metadata": {},
   "outputs": [],
   "source": [
    "# Taking float input\n",
    "height_str = input(\"Enter your height in meters: \")\n",
    "height_float = float(height_str)\n",
    "print(\"Your height is:\", height_float, type(height_float))"
   ]
  },
  {
   "cell_type": "code",
   "execution_count": null,
   "metadata": {},
   "outputs": [],
   "source": [
    "# Taking string input\n",
    "name = input(\"Enter your name: \")\n",
    "print(\"Hello,\", name, type(name))"
   ]
  },
  {
   "cell_type": "markdown",
   "metadata": {},
   "source": [
    "### The `print()` Function\n",
    "\n",
    "The `print()` function is used to display output to the console. It can print strings, numbers, variables, and the results of expressions.\n",
    "\n",
    "**Syntax:**\n",
    "```\n",
    "print(*objects, sep=' ', end='\\n', file=sys.stdout, flush=False)\n",
    "```\n",
    "\n",
    "\n",
    "- `*objects`: One or more objects to be printed. They are converted to string representation.\n",
    "- `sep`: (Optional) A string inserted between objects when multiple objects are printed. Defaults to a single space (`' '`).\n",
    "- `end`: (Optional) A string appended after the last object. Defaults to a newline character (`'\\n'`), which moves the cursor to the next line after printing.\n",
    "- `file`: (Optional) An object with a `write()` method, where the output will be sent. Defaults to `sys.stdout` (the console).\n",
    "- `flush`: (Optional) A boolean. If `True`, the stream is forcibly flushed. Defaults to `False`.\n",
    "\n",
    "**Usage:**\n",
    "`print()` is commonly used to display information to the user, debug code, or show the results of calculations."
   ]
  },
  {
   "cell_type": "code",
   "execution_count": null,
   "metadata": {},
   "outputs": [],
   "source": [
    "# Demonstrate print() with different arguments and parameters\n",
    "print(\"\\nDemonstrating print() function:\")"
   ]
  },
  {
   "cell_type": "code",
   "execution_count": null,
   "metadata": {},
   "outputs": [],
   "source": [
    "# Printing multiple values with default separator (space)\n",
    "print(\"This\", \"is\", \"an\", \"example\")"
   ]
  },
  {
   "cell_type": "code",
   "execution_count": null,
   "metadata": {},
   "outputs": [],
   "source": [
    "# Printing multiple values with a custom separator\n",
    "print(\"apple\", \"banana\", \"cherry\", sep=\"-\")"
   ]
  },
  {
   "cell_type": "code",
   "execution_count": null,
   "metadata": {},
   "outputs": [],
   "source": [
    "# Printing multiple values and controlling the end character\n",
    "print(\"Hello\", end=\" \")\n",
    "print(\"World!\")"
   ]
  },
  {
   "cell_type": "code",
   "execution_count": null,
   "metadata": {},
   "outputs": [],
   "source": [
    "# Printing values on the same line using end=''\n",
    "print(\"Counting:\", end=\" \")"
   ]
  },
  {
   "cell_type": "code",
   "execution_count": null,
   "metadata": {},
   "outputs": [],
   "source": [
    "for i in range(1, 6):\n",
    "    print(i, end=\" \")\n",
    "print() # Print a newline at the end"
   ]
  },
  {
   "cell_type": "code",
   "execution_count": null,
   "metadata": {},
   "outputs": [],
   "source": [
    "# Printing a variable and a literal\n",
    "message = \"Learning Python\"\n",
    "print(\"Message:\", message)"
   ]
  },
  {
   "cell_type": "markdown",
   "metadata": {},
   "source": [
    "### **Comments in Python**\n",
    "\n",
    "Comments are lines within a program that are ignored by the interpreter during execution. They are used to:\n",
    "\n",
    "*   **Document Code:** Explain what the code does, its purpose, and how it works. This is crucial for readability and maintainability, especially when working on large projects or collaborating with others.\n",
    "*   **Explain Complex Logic:** Break down complicated sections of code into understandable steps.\n",
    "*   **Temporarily Disable Code:** Commenting out lines or blocks of code is a quick way to test different parts of your program without deleting code.\n",
    "\n",
    "Python provides two main ways to add comments:\n",
    "\n",
    "### Single-line Comments\n",
    "\n",
    "Single-line comments start with the hash symbol (`#`). Everything from the `#` to the end of the line is considered a comment.\n",
    "\n",
    "**Syntax:**\n",
    "```\n",
    "# This is a single-line comment\n",
    "```\n",
    "\n",
    "### Multi-line Comments (Docstrings and Multi-line Strings)\n",
    "\n",
    "Python does not have a dedicated syntax for multi-line comments in the same way some other languages do (like `/* ... */` in C++ or Java). However, multi-line strings, enclosed in triple quotes (`'''` or `\"\"\"`), are often used for this purpose, especially as docstrings (documentation strings) for functions, classes, and modules.\n",
    "\n",
    "While multi-line strings are technically evaluated by the interpreter, if they are not assigned to a variable or used in an expression, they act like comments because they don't affect the program's execution flow.\n",
    "\n",
    "**Syntax:**\n",
    "```\n",
    "\"\"\"\n",
    "This is a multi-line string\n",
    "that can be used as a multi-line comment\n",
    "or a docstring.\n",
    "\"\"\"\n",
    "\n",
    "'''\n",
    "This is another way\n",
    "to create a multi-line string.\n",
    "'''\n",
    "```"
   ]
  },
  {
   "cell_type": "code",
   "execution_count": null,
   "metadata": {},
   "outputs": [],
   "source": [
    "# This is a single-line comment explaining the next line of code\n",
    "x = 10 # Assigning the value 10 to variable x\n",
    "print(\"The value of x is:\", x)\n",
    "\n",
    "# Another single-line comment\n",
    "y = 20\n",
    "print(\"The value of y is:\", y)\n",
    "\n",
    "# You can comment out a single line of code\n",
    "# print(\"This line is commented out and will not execute.\")"
   ]
  },
  {
   "cell_type": "code",
   "execution_count": null,
   "metadata": {},
   "outputs": [],
   "source": [
    "\"\"\"\n",
    "This is a multi-line string used as a multi-line comment.\n",
    "It can span across multiple lines to provide more detailed explanations.\n",
    "For example, explaining the purpose of the following function.\n",
    "\"\"\"\n",
    "def calculate_sum(a, b):\n",
    "    # This function calculates the sum of two numbers.\n",
    "    return a + b\n",
    "\n",
    "result = calculate_sum(5, 7)\n",
    "print(\"The sum is:\", result)\n",
    "\n",
    "'''\n",
    "You can also use triple single quotes for multi-line comments.\n",
    "Let's temporarily comment out a block of code using triple quotes.\n",
    "\n",
    "print(\"This block of code\")\n",
    "print(\"is temporarily disabled.\")\n",
    "print(\"It will not run.\")\n",
    "'''\n",
    "\n",
    "print(\"Program finished.\") # A comment at the end of the line"
   ]
  },
  {
   "cell_type": "markdown",
   "metadata": {},
   "source": [
    "### **Flow of Execution**\n",
    "\n",
    "The flow of execution refers to the order in which the statements in a program are executed. By default, Python follows a sequential flow of execution.\n",
    "\n",
    "### Sequential Statements\n",
    "\n",
    "In a sequential program, statements are executed one after another, from top to bottom, in the exact order they appear in the code. Each statement is processed completely before the next statement begins. This is the simplest form of program execution."
   ]
  },
  {
   "cell_type": "code",
   "execution_count": null,
   "metadata": {},
   "outputs": [],
   "source": [
    "# This program demonstrates sequential execution\n",
    "\n",
    "print(\"First statement: This line will print first.\")\n",
    "x = 10\n",
    "y = 20\n",
    "print(\"Second statement: Variables x and y are assigned values.\")\n",
    "z = x + y\n",
    "print(\"Third statement: x + y is calculated and stored in z.\")\n",
    "print(\"Fourth statement: The value of z is:\", z)\n",
    "print(\"Fifth statement: This line will print last.\")"
   ]
  },
  {
   "cell_type": "markdown",
   "metadata": {},
   "source": [
    "### **Conditional Statements**\n",
    "\n",
    "Conditional statements are used in programming to control the flow of execution based on whether a specific condition is true or false. They allow your program to make decisions and execute different blocks of code accordingly. This deviates from the default sequential flow, enabling more dynamic and responsive programs.\n",
    "\n",
    "### The `if` Statement\n",
    "\n",
    "The `if` statement is the simplest form of a conditional statement. It executes a block of code only if the specified condition is `True`.\n",
    "\n",
    "**Syntax:**\n",
    "\n",
    "```python\n",
    "if condition:\n",
    "    # Block of code to execute if the condition is True\n",
    "    statement1\n",
    "    statement2\n",
    "    # ...\n",
    "```\n",
    "\n",
    "*   `condition`: An expression that evaluates to either `True` or `False`.\n",
    "*   The code block following the `if` statement is indented. Indentation is crucial in Python to define the scope of a block.\n"
   ]
  },
  {
   "cell_type": "code",
   "execution_count": null,
   "metadata": {},
   "outputs": [],
   "source": [
    "# Example for if statement\n",
    "temperature = 25\n",
    "if temperature > 20:\n",
    "    print(\"It's a warm day.\")"
   ]
  },
  {
   "cell_type": "markdown",
   "metadata": {},
   "source": [
    "### The `if-else` Statement\n",
    "\n",
    "The `if-else` statement allows you to execute one block of code if the condition is `True` and another block if the condition is `False`. It provides an alternative path of execution.\n",
    "\n",
    "**Syntax:**\n",
    "\n",
    "```python\n",
    "if condition:\n",
    "    # Block of code to execute if the condition is True\n",
    "    statement1\n",
    "    statement2\n",
    "    # ...\n",
    "else:\n",
    "    # Block of code to execute if the condition is False\n",
    "    statementA\n",
    "    statementB\n",
    "    # ...\n",
    "```\n",
    "\n",
    "*   If the `condition` is `True`, the code in the `if` block is executed.\n",
    "*   If the `condition` is `False`, the code in the `else` block is executed.\n",
    "*   Only one of the blocks (`if` or `else`) will be executed.\n"
   ]
  },
  {
   "cell_type": "code",
   "execution_count": null,
   "metadata": {},
   "outputs": [],
   "source": [
    "# Example for if-else statement\n",
    "age = 17\n",
    "if age >= 18:\n",
    "    print(\"You are an adult.\")\n",
    "else:\n",
    "    print(\"You are a minor.\")"
   ]
  },
  {
   "cell_type": "markdown",
   "metadata": {},
   "source": [
    "### The `if-elif-else` Statement\n",
    "\n",
    "The `if-elif-else` statement is used when you need to check multiple conditions sequentially. The `elif` (short for \"else if\") keyword allows you to test additional conditions if the preceding `if` or `elif` conditions are `False`.\n",
    "\n",
    "**Syntax:**\n",
    "\n",
    "```python\n",
    "if condition1:\n",
    "    # Block of code to execute if condition1 is True\n",
    "    # ...\n",
    "elif condition2:\n",
    "    # Block of code to execute if condition1 is False AND condition2 is True\n",
    "    # ...\n",
    "elif condition3:\n",
    "    # Block of code to execute if condition1 and condition2 are False AND condition3 is True\n",
    "    # ...\n",
    "else:\n",
    "    # Block of code to execute if all preceding conditions are False\n",
    "    # ...\n",
    "```\n",
    "\n",
    "*   Python checks the conditions from top to bottom.\n",
    "*   The first block whose condition evaluates to `True` is executed, and the rest of the `elif` and `else` blocks are skipped.\n",
    "*   The `else` block is optional and is executed only if none of the `if` or `elif` conditions are `True`."
   ]
  },
  {
   "cell_type": "code",
   "execution_count": null,
   "metadata": {},
   "outputs": [],
   "source": [
    "# Example for if-elif-else statement\n",
    "score = 75\n",
    "if score >= 90:\n",
    "    print(\"Grade: A\")\n",
    "elif score >= 80:\n",
    "    print(\"Grade: B\")\n",
    "elif score >= 70:\n",
    "    print(\"Grade: C\")\n",
    "else:\n",
    "    print(\"Grade: D or F\")"
   ]
  },
  {
   "cell_type": "markdown",
   "metadata": {},
   "source": [
    "### Nested `if-else` Statements\n",
    "\n",
    "Nested `if-else` statements involve placing one or more `if`, `elif`, or `else` statements inside another `if`, `elif`, or `else` block. This allows for more complex decision-making logic where a condition's evaluation depends on the outcome of a previous condition.\n",
    "\n",
    "**Syntax (Example):**\n",
    "\n",
    "```python\n",
    "if outer_condition:\n",
    "    # Code for the outer block\n",
    "    if inner_condition1:\n",
    "        # Code for the first inner block\n",
    "        # ...\n",
    "    else:\n",
    "        # Code for the second inner block\n",
    "        # ...\n",
    "else:\n",
    "    # Code for the outer else block\n",
    "    # ...\n",
    "```\n",
    "\n",
    "*   The inner conditional statement is only evaluated if the outer condition is met (or not met, depending on where it's nested).\n",
    "*   Indentation is crucial to correctly define the scope of each nested block."
   ]
  },
  {
   "cell_type": "code",
   "execution_count": null,
   "metadata": {},
   "outputs": [],
   "source": [
    "# Example for nested if-else statement\n",
    "is_logged_in = True\n",
    "is_admin = False\n",
    "\n",
    "if is_logged_in:\n",
    "    print(\"User is logged in.\")\n",
    "    if is_admin:\n",
    "        print(\"Welcome, Admin!\")\n",
    "    else:\n",
    "        print(\"Welcome, User!\")\n",
    "else:\n",
    "    print(\"Please log in to continue.\")"
   ]
  },
  {
   "cell_type": "markdown",
   "metadata": {},
   "source": [
    "## **Python: Zero to Mastery - Day 2**\n",
    "\n"
   ]
  },
  {
   "cell_type": "markdown",
   "metadata": {},
   "source": [
    "### Looping Constructs\n",
    "\n",
    "Looping constructs, also known as iteration statements, allow you to execute a block of code repeatedly. This is incredibly useful for performing tasks that need to be done multiple times, such as processing items in a list, repeating a calculation until a certain condition is met, or running a program for a fixed number of times. Python provides two main types of loops: `for` loops and `while` loops.\n",
    "\n",
    "### The `for` Loop\n",
    "\n",
    "The `for` loop is used to iterate over a sequence (like a list, tuple, string, or range) or other iterable objects. It executes a block of code once for each item in the sequence.\n",
    "\n",
    "**Syntax:**\n",
    "\n",
    "```python\n",
    "for variable in sequence:\n",
    "    # Block of code to execute for each item\n",
    "    statement1\n",
    "    statement2\n",
    "    # ...\n",
    "```\n",
    "\n",
    "*   `variable`: A variable that takes on the value of the next item in the `sequence` during each iteration.\n",
    "*   `sequence`: An iterable object (e.g., a list, string, or the result of `range()`).\n",
    "\n",
    "**Common Use Cases for `for` loops:**\n",
    "\n",
    "*   Iterating over elements in a list, tuple, or string.\n",
    "*   Executing a block of code a specific number of times using the `range()` function.\n",
    "*   Processing items from other iterable objects like sets or dictionaries.\n",
    "\n",
    "### The `range()` Function\n",
    "\n",
    "The `range()` function is a built-in Python function that generates a sequence of numbers. It's commonly used with `for` loops to iterate a specific number of times or over a specific numerical range.\n",
    "\n",
    "**Syntax:**\n",
    "\n",
    "```python\n",
    "range(stop)\n",
    "range(start, stop)\n",
    "range(start, stop, step)\n",
    "```\n",
    "\n",
    "*   `stop`: The loop will go up to, but not include, this number. (Required)\n",
    "*   `start`: The starting number of the sequence. Defaults to 0 if omitted. (Optional)\n",
    "*   `step`: The increment between numbers. Defaults to 1 if omitted. (Optional)\n"
   ]
  },
  {
   "cell_type": "code",
   "execution_count": null,
   "metadata": {},
   "outputs": [],
   "source": [
    "# Example 1: for loop iterating over a list\n",
    "print(\"Example 1: for loop over a list\")\n",
    "fruits = [\"apple\", \"banana\", \"cherry\"]\n",
    "for fruit in fruits:\n",
    "    print(fruit)\n",
    "print(\"-\" * 20)"
   ]
  },
  {
   "cell_type": "code",
   "execution_count": null,
   "metadata": {},
   "outputs": [],
   "source": [
    "# Example 2: for loop using range()\n",
    "print(\"Example 2: for loop using range()\")\n",
    "for i in range(5): # Iterates from 0 to 4\n",
    "    print(i)\n",
    "print(\"-\" * 20)"
   ]
  },
  {
   "cell_type": "markdown",
   "metadata": {},
   "source": [
    "### The `while` Loop\n",
    "\n",
    "The `while` loop is used to execute a block of code repeatedly as long as a specified condition is `True`. This is useful when you don't know beforehand how many times you need to loop; the loop continues until the condition becomes `False`.\n",
    "\n",
    "**Syntax:**\n",
    "\n",
    "```python\n",
    "while condition:\n",
    "    # Block of code to execute as long as the condition is True\n",
    "    statement1\n",
    "    statement2\n",
    "    # ...\n",
    "```\n",
    "\n",
    "*   `condition`: An expression that is evaluated at the beginning of each iteration. If it's `True`, the loop body executes. If it's `False`, the loop terminates.\n",
    "\n",
    "**Common Use Cases for `while` loops:**\n",
    "\n",
    "*   Looping until a specific condition is met (e.g., reading data until an empty line is encountered, repeating a process until a user enters a specific input).\n",
    "*   Creating loops that might not execute at all if the initial condition is `False`.\n",
    "*   Implementing loops where the number of iterations is not known in advance."
   ]
  },
  {
   "cell_type": "code",
   "execution_count": null,
   "metadata": {},
   "outputs": [],
   "source": [
    "# Example 3: Simple while loop\n",
    "print(\"Example 3: Simple while loop\")\n",
    "count = 0\n",
    "while count < 3:\n",
    "    print(\"Count:\", count)\n",
    "    count += 1"
   ]
  },
  {
   "cell_type": "markdown",
   "metadata": {},
   "source": [
    "### Loop Control Statements: `break` and `continue`\n",
    "\n",
    "Within loops, you can use `break` and `continue` statements to alter the normal flow of execution:\n",
    "\n",
    "*   **`break`:** Immediately terminates the current loop (both `for` and `while`) and resumes execution at the first statement after the loop.\n",
    "*   **`continue`:** Skips the rest of the current iteration of the loop and moves to the next iteration."
   ]
  },
  {
   "cell_type": "code",
   "execution_count": null,
   "metadata": {},
   "outputs": [],
   "source": [
    "# Example 4: while loop with break\n",
    "print(\"Example 4: while loop with break\")\n",
    "i = 0\n",
    "while i < 10:\n",
    "    print(i)\n",
    "    if i == 5:\n",
    "        break # Exit the loop when i is 5\n",
    "    i += 1\n",
    "print(\"Loop finished.\")"
   ]
  },
  {
   "cell_type": "code",
   "execution_count": null,
   "metadata": {},
   "outputs": [],
   "source": [
    "# Example 5: while loop with continue\n",
    "print(\"Example 5: while loop with continue\")\n",
    "j = 0\n",
    "while j < 5:\n",
    "    j += 1\n",
    "    if j == 3:\n",
    "        continue # Skip the rest of the loop body when j is 3\n",
    "    print(j)\n",
    "print(\"Loop finished.\")"
   ]
  },
  {
   "cell_type": "markdown",
   "metadata": {},
   "source": [
    "### Strings\n",
    "\n",
    "Strings are sequences of characters, used to represent text in Python. They are immutable, meaning once a string is created, its content cannot be changed directly.\n",
    "\n",
    "### String Operations\n",
    "\n",
    "Common operations include:\n",
    "\n",
    "*   **Concatenation:** Joining two or more strings together. The `+` operator is used for concatenation.\n",
    "*   **Repetition:** Repeating a string a specified number of times. The `*` operator is used for repetition.\n"
   ]
  },
  {
   "cell_type": "code",
   "execution_count": null,
   "metadata": {},
   "outputs": [],
   "source": [
    "# String Operations\n",
    "string1 = \"Hello\"\n",
    "string2 = \"Python\"\n",
    "\n",
    "# Concatenation\n",
    "concatenated_string = string1 + \" \" + string2\n",
    "print(\"Concatenation:\", concatenated_string)\n",
    "\n",
    "# Repetition\n",
    "repeated_string = string1 * 3\n",
    "print(\"Repetition:\", repeated_string)"
   ]
  }
 ],
 "metadata": {
  "colab": {
   "authorship_tag": "ABX9TyOVtunSHgIdBzItJS20+Meb",
   "provenance": []
  },
  "kernelspec": {
   "display_name": "Python 3",
   "name": "python3"
  },
  "language_info": {
   "name": "python"
  }
 },
 "nbformat": 4,
 "nbformat_minor": 0
}
