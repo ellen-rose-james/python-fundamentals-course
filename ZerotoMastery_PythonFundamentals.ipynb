{
 "cells": [
  {
   "cell_type": "markdown",
   "metadata": {},
   "source": [
    "## **Python: Zero to Mastery - Day 1**\n",
    "\n"
   ]
  },
  {
   "cell_type": "markdown",
   "metadata": {},
   "source": [
    "### **Structure of a Python Program**\n",
    "\n",
    "A Python program is typically organized into the following components:\n",
    "\n",
    "*   **Modules:** A module is a file containing Python definitions and statements. The file name is the module name with the suffix `.py`. Modules can define functions, classes, and variables. They provide a way to organize code into logical units and promote reusability.\n",
    "\n",
    "*   **Statements:** A statement is a unit of code that the Python interpreter can execute. Examples include assignment statements (e.g., `x = 5`), print statements (`print(\"Hello\")`), conditional statements (`if`), and loops (`for`, `while`). Statements perform actions.\n",
    "\n",
    "*   **Expressions:** An expression is a combination of values, variables, and operators that the Python interpreter can evaluate to produce a value. Examples include arithmetic expressions (`2 + 3`), string expressions (`\"Hello\" + \"World\"`), and logical expressions (`x > 5`). Expressions produce values."
   ]
  },
  {
   "cell_type": "code",
   "execution_count": null,
   "metadata": {},
   "outputs": [],
   "source": [
    "# Example of a statement (assignment)\n",
    "x = 10\n",
    "print(\"The value of x is:\", x)"
   ]
  },
  {
   "cell_type": "code",
   "execution_count": null,
   "metadata": {},
   "outputs": [],
   "source": [
    "# Example of an expression (arithmetic)\n",
    "y = 5 + 3 * 2\n",
    "print(\"The value of y is:\", y)"
   ]
  },
  {
   "cell_type": "code",
   "execution_count": null,
   "metadata": {},
   "outputs": [],
   "source": [
    "# Example of a statement (conditional)\n",
    "if x > 5:\n",
    "    print(\"x is greater than 5\")"
   ]
  },
  {
   "cell_type": "code",
   "execution_count": null,
   "metadata": {},
   "outputs": [],
   "source": [
    "# Example of an expression (logical)\n",
    "is_true = (y < 20) and (x == 10)\n",
    "print(\"The logical expression evaluates to:\", is_true)"
   ]
  }
 ],
 "metadata": {
  "colab": {
   "authorship_tag": "ABX9TyOVtunSHgIdBzItJS20+Meb",
   "provenance": []
  },
  "kernelspec": {
   "display_name": "Python 3",
   "name": "python3"
  },
  "language_info": {
   "name": "python"
  }
 },
 "nbformat": 4,
 "nbformat_minor": 0
}
